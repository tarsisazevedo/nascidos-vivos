{
 "cells": [
  {
   "cell_type": "code",
   "execution_count": 8,
   "metadata": {},
   "outputs": [
    {
     "ename": "ImportError",
     "evalue": "dlopen(/Users/tarsisazevedo/.virtualenvs/bootcamp/lib/python3.6/site-packages/pysus/utilities/_readdbc.abi3.so, 2): Symbol not found: _error\n  Referenced from: /Users/tarsisazevedo/.virtualenvs/bootcamp/lib/python3.6/site-packages/pysus/utilities/_readdbc.abi3.so\n  Expected in: flat namespace\n in /Users/tarsisazevedo/.virtualenvs/bootcamp/lib/python3.6/site-packages/pysus/utilities/_readdbc.abi3.so",
     "output_type": "error",
     "traceback": [
      "\u001b[0;31m---------------------------------------------------------------------------\u001b[0m",
      "\u001b[0;31mImportError\u001b[0m                               Traceback (most recent call last)",
      "\u001b[0;32m<ipython-input-8-7723051aeb1f>\u001b[0m in \u001b[0;36m<module>\u001b[0;34m()\u001b[0m\n\u001b[0;32m----> 1\u001b[0;31m \u001b[0;32mfrom\u001b[0m \u001b[0mpysus\u001b[0m\u001b[0;34m.\u001b[0m\u001b[0mutilities\u001b[0m\u001b[0;34m.\u001b[0m\u001b[0mreaddbc\u001b[0m \u001b[0;32mimport\u001b[0m \u001b[0mread_dbc\u001b[0m\u001b[0;34m\u001b[0m\u001b[0m\n\u001b[0m",
      "\u001b[0;32m~/.virtualenvs/bootcamp/lib/python3.6/site-packages/pysus/utilities/readdbc.py\u001b[0m in \u001b[0;36m<module>\u001b[0;34m()\u001b[0m\n\u001b[1;32m     10\u001b[0m \u001b[0;32mfrom\u001b[0m \u001b[0mdbfread\u001b[0m \u001b[0;32mimport\u001b[0m \u001b[0mDBF\u001b[0m\u001b[0;34m\u001b[0m\u001b[0m\n\u001b[1;32m     11\u001b[0m \u001b[0;34m\u001b[0m\u001b[0m\n\u001b[0;32m---> 12\u001b[0;31m \u001b[0;32mfrom\u001b[0m \u001b[0mpysus\u001b[0m\u001b[0;34m.\u001b[0m\u001b[0mutilities\u001b[0m\u001b[0;34m.\u001b[0m\u001b[0m_readdbc\u001b[0m \u001b[0;32mimport\u001b[0m \u001b[0mffi\u001b[0m\u001b[0;34m,\u001b[0m \u001b[0mlib\u001b[0m\u001b[0;34m\u001b[0m\u001b[0m\n\u001b[0m\u001b[1;32m     13\u001b[0m \u001b[0;34m\u001b[0m\u001b[0m\n\u001b[1;32m     14\u001b[0m \u001b[0;34m\u001b[0m\u001b[0m\n",
      "\u001b[0;31mImportError\u001b[0m: dlopen(/Users/tarsisazevedo/.virtualenvs/bootcamp/lib/python3.6/site-packages/pysus/utilities/_readdbc.abi3.so, 2): Symbol not found: _error\n  Referenced from: /Users/tarsisazevedo/.virtualenvs/bootcamp/lib/python3.6/site-packages/pysus/utilities/_readdbc.abi3.so\n  Expected in: flat namespace\n in /Users/tarsisazevedo/.virtualenvs/bootcamp/lib/python3.6/site-packages/pysus/utilities/_readdbc.abi3.so"
     ]
    }
   ],
   "source": [
    "from pysus.utilities.readdbc import read_dbc"
   ]
  },
  {
   "cell_type": "code",
   "execution_count": null,
   "metadata": {},
   "outputs": [],
   "source": []
  }
 ],
 "metadata": {
  "kernelspec": {
   "display_name": "Python 3",
   "language": "python",
   "name": "python3"
  },
  "language_info": {
   "codemirror_mode": {
    "name": "ipython",
    "version": 3
   },
   "file_extension": ".py",
   "mimetype": "text/x-python",
   "name": "python",
   "nbconvert_exporter": "python",
   "pygments_lexer": "ipython3",
   "version": "3.6.3"
  }
 },
 "nbformat": 4,
 "nbformat_minor": 2
}

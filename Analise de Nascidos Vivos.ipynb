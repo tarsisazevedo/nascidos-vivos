{
 "cells": [
  {
   "cell_type": "markdown",
   "metadata": {},
   "source": [
    "Introdução a Analise de dados\n",
    "================\n",
    "\n",
    "Hoje faremos juntos uma analise dos dados de nascidos vivos, no estado do Rio de Janeiro em 2015.\n",
    "\n",
    "-------"
   ]
  },
  {
   "cell_type": "markdown",
   "metadata": {},
   "source": [
    "Vamos usar a biblioteca pysus para importar esses dados"
   ]
  },
  {
   "cell_type": "code",
   "execution_count": 1,
   "metadata": {},
   "outputs": [
    {
     "name": "stdout",
     "output_type": "stream",
     "text": [
      "True\n"
     ]
    }
   ],
   "source": [
    "import pandas\n",
    "from pysus.utilities.readdbc import read_dbc\n",
    "df = read_dbc(\"DNRJ2015.dbc\")"
   ]
  },
  {
   "cell_type": "markdown",
   "metadata": {},
   "source": [
    "## Conhecendo os dados\n",
    "\n",
    "O primeiro passo de qualquer analise é conhecer os dados que você tem em mãos."
   ]
  },
  {
   "cell_type": "code",
   "execution_count": 2,
   "metadata": {},
   "outputs": [
    {
     "data": {
      "text/html": [
       "<div>\n",
       "<style scoped>\n",
       "    .dataframe tbody tr th:only-of-type {\n",
       "        vertical-align: middle;\n",
       "    }\n",
       "\n",
       "    .dataframe tbody tr th {\n",
       "        vertical-align: top;\n",
       "    }\n",
       "\n",
       "    .dataframe thead th {\n",
       "        text-align: right;\n",
       "    }\n",
       "</style>\n",
       "<table border=\"1\" class=\"dataframe\">\n",
       "  <thead>\n",
       "    <tr style=\"text-align: right;\">\n",
       "      <th></th>\n",
       "      <th>NUMERODN</th>\n",
       "      <th>CODINST</th>\n",
       "      <th>ORIGEM</th>\n",
       "      <th>NUMERODV</th>\n",
       "      <th>PREFIXODN</th>\n",
       "      <th>CODESTAB</th>\n",
       "      <th>CODMUNNASC</th>\n",
       "      <th>LOCNASC</th>\n",
       "      <th>IDADEMAE</th>\n",
       "      <th>ESTCIVMAE</th>\n",
       "      <th>...</th>\n",
       "      <th>TPNASCASSI</th>\n",
       "      <th>TPFUNCRESP</th>\n",
       "      <th>TPDOCRESP</th>\n",
       "      <th>DTDECLARAC</th>\n",
       "      <th>ESCMAEAGR1</th>\n",
       "      <th>TPROBSON</th>\n",
       "      <th>STDNEPIDEM</th>\n",
       "      <th>STDNNOVA</th>\n",
       "      <th>CODPAISRES</th>\n",
       "      <th>PARIDADE</th>\n",
       "    </tr>\n",
       "  </thead>\n",
       "  <tbody>\n",
       "    <tr>\n",
       "      <th>0</th>\n",
       "      <td>13660401</td>\n",
       "      <td>MRJ3303900001</td>\n",
       "      <td>1</td>\n",
       "      <td></td>\n",
       "      <td></td>\n",
       "      <td>2275554</td>\n",
       "      <td>330390</td>\n",
       "      <td>2</td>\n",
       "      <td>26</td>\n",
       "      <td>1</td>\n",
       "      <td>...</td>\n",
       "      <td></td>\n",
       "      <td></td>\n",
       "      <td></td>\n",
       "      <td></td>\n",
       "      <td></td>\n",
       "      <td>11</td>\n",
       "      <td>0</td>\n",
       "      <td>0</td>\n",
       "      <td>1</td>\n",
       "      <td>0</td>\n",
       "    </tr>\n",
       "    <tr>\n",
       "      <th>1</th>\n",
       "      <td>53258484</td>\n",
       "      <td>RRJ3304550000</td>\n",
       "      <td>1</td>\n",
       "      <td>0</td>\n",
       "      <td>30</td>\n",
       "      <td>2273101</td>\n",
       "      <td>330412</td>\n",
       "      <td>1</td>\n",
       "      <td>27</td>\n",
       "      <td>1</td>\n",
       "      <td>...</td>\n",
       "      <td></td>\n",
       "      <td></td>\n",
       "      <td></td>\n",
       "      <td></td>\n",
       "      <td></td>\n",
       "      <td>11</td>\n",
       "      <td>0</td>\n",
       "      <td>0</td>\n",
       "      <td>1</td>\n",
       "      <td>1</td>\n",
       "    </tr>\n",
       "    <tr>\n",
       "      <th>2</th>\n",
       "      <td>53258485</td>\n",
       "      <td>RRJ3304550000</td>\n",
       "      <td>1</td>\n",
       "      <td>8</td>\n",
       "      <td>30</td>\n",
       "      <td>2273101</td>\n",
       "      <td>330412</td>\n",
       "      <td>1</td>\n",
       "      <td>28</td>\n",
       "      <td>1</td>\n",
       "      <td>...</td>\n",
       "      <td></td>\n",
       "      <td></td>\n",
       "      <td></td>\n",
       "      <td></td>\n",
       "      <td></td>\n",
       "      <td>11</td>\n",
       "      <td>0</td>\n",
       "      <td>0</td>\n",
       "      <td>1</td>\n",
       "      <td>0</td>\n",
       "    </tr>\n",
       "    <tr>\n",
       "      <th>3</th>\n",
       "      <td>53302375</td>\n",
       "      <td>RRJ3304550000</td>\n",
       "      <td>1</td>\n",
       "      <td>2</td>\n",
       "      <td>30</td>\n",
       "      <td>2290073</td>\n",
       "      <td>330140</td>\n",
       "      <td>1</td>\n",
       "      <td>19</td>\n",
       "      <td>1</td>\n",
       "      <td>...</td>\n",
       "      <td></td>\n",
       "      <td></td>\n",
       "      <td></td>\n",
       "      <td></td>\n",
       "      <td></td>\n",
       "      <td>11</td>\n",
       "      <td>0</td>\n",
       "      <td>0</td>\n",
       "      <td>1</td>\n",
       "      <td>0</td>\n",
       "    </tr>\n",
       "    <tr>\n",
       "      <th>4</th>\n",
       "      <td>53302376</td>\n",
       "      <td>RRJ3304550000</td>\n",
       "      <td>1</td>\n",
       "      <td>0</td>\n",
       "      <td>30</td>\n",
       "      <td>2290073</td>\n",
       "      <td>330140</td>\n",
       "      <td>1</td>\n",
       "      <td>18</td>\n",
       "      <td>1</td>\n",
       "      <td>...</td>\n",
       "      <td></td>\n",
       "      <td></td>\n",
       "      <td></td>\n",
       "      <td></td>\n",
       "      <td></td>\n",
       "      <td>11</td>\n",
       "      <td>0</td>\n",
       "      <td>0</td>\n",
       "      <td>1</td>\n",
       "      <td>1</td>\n",
       "    </tr>\n",
       "  </tbody>\n",
       "</table>\n",
       "<p>5 rows × 63 columns</p>\n",
       "</div>"
      ],
      "text/plain": [
       "   NUMERODN        CODINST ORIGEM NUMERODV PREFIXODN CODESTAB CODMUNNASC  \\\n",
       "0  13660401  MRJ3303900001      1                     2275554     330390   \n",
       "1  53258484  RRJ3304550000      1        0        30  2273101     330412   \n",
       "2  53258485  RRJ3304550000      1        8        30  2273101     330412   \n",
       "3  53302375  RRJ3304550000      1        2        30  2290073     330140   \n",
       "4  53302376  RRJ3304550000      1        0        30  2290073     330140   \n",
       "\n",
       "  LOCNASC IDADEMAE ESTCIVMAE   ...    TPNASCASSI TPFUNCRESP TPDOCRESP  \\\n",
       "0       2       26         1   ...                                      \n",
       "1       1       27         1   ...                                      \n",
       "2       1       28         1   ...                                      \n",
       "3       1       19         1   ...                                      \n",
       "4       1       18         1   ...                                      \n",
       "\n",
       "  DTDECLARAC ESCMAEAGR1 TPROBSON STDNEPIDEM STDNNOVA CODPAISRES PARIDADE  \n",
       "0                             11          0        0          1        0  \n",
       "1                             11          0        0          1        1  \n",
       "2                             11          0        0          1        0  \n",
       "3                             11          0        0          1        0  \n",
       "4                             11          0        0          1        1  \n",
       "\n",
       "[5 rows x 63 columns]"
      ]
     },
     "execution_count": 2,
     "metadata": {},
     "output_type": "execute_result"
    }
   ],
   "source": [
    "df.head()"
   ]
  },
  {
   "cell_type": "code",
   "execution_count": 3,
   "metadata": {},
   "outputs": [
    {
     "name": "stdout",
     "output_type": "stream",
     "text": [
      "<class 'pandas.core.frame.DataFrame'>\n",
      "RangeIndex: 236960 entries, 0 to 236959\n",
      "Data columns (total 63 columns):\n",
      "NUMERODN      236960 non-null object\n",
      "CODINST       236960 non-null object\n",
      "ORIGEM        236960 non-null object\n",
      "NUMERODV      236960 non-null object\n",
      "PREFIXODN     236960 non-null object\n",
      "CODESTAB      236960 non-null object\n",
      "CODMUNNASC    236960 non-null object\n",
      "LOCNASC       236960 non-null object\n",
      "IDADEMAE      236960 non-null object\n",
      "ESTCIVMAE     236960 non-null object\n",
      "ESCMAE        236960 non-null object\n",
      "CODOCUPMAE    236960 non-null object\n",
      "QTDFILVIVO    236960 non-null object\n",
      "QTDFILMORT    236960 non-null object\n",
      "CODMUNRES     236960 non-null object\n",
      "GESTACAO      236960 non-null object\n",
      "GRAVIDEZ      236960 non-null object\n",
      "PARTO         236960 non-null object\n",
      "CONSULTAS     236960 non-null object\n",
      "DTNASC        236960 non-null object\n",
      "HORANASC      236960 non-null object\n",
      "SEXO          236960 non-null object\n",
      "APGAR1        236960 non-null object\n",
      "APGAR5        236960 non-null object\n",
      "RACACOR       236960 non-null object\n",
      "PESO          236960 non-null object\n",
      "IDANOMAL      236960 non-null object\n",
      "DTCADASTRO    236960 non-null object\n",
      "CODANOMAL     236960 non-null object\n",
      "NUMEROLOTE    236960 non-null object\n",
      "VERSAOSIST    236960 non-null object\n",
      "DTRECEBIM     236960 non-null object\n",
      "DIFDATA       236960 non-null object\n",
      "DTRECORIG     236960 non-null object\n",
      "NATURALMAE    236960 non-null object\n",
      "CODMUNNATU    236960 non-null object\n",
      "CODUFNATU     236960 non-null object\n",
      "ESCMAE2010    236960 non-null object\n",
      "SERIESCMAE    236960 non-null object\n",
      "DTNASCMAE     236960 non-null object\n",
      "RACACORMAE    236960 non-null object\n",
      "QTDGESTANT    236960 non-null object\n",
      "QTDPARTNOR    236960 non-null object\n",
      "QTDPARTCES    236960 non-null object\n",
      "IDADEPAI      236960 non-null object\n",
      "DTULTMENST    236960 non-null object\n",
      "SEMAGESTAC    236960 non-null object\n",
      "TPMETESTIM    236960 non-null object\n",
      "CONSPRENAT    236960 non-null object\n",
      "MESPRENAT     236960 non-null object\n",
      "TPAPRESENT    236960 non-null object\n",
      "STTRABPART    236960 non-null object\n",
      "STCESPARTO    236960 non-null object\n",
      "TPNASCASSI    236960 non-null object\n",
      "TPFUNCRESP    236960 non-null object\n",
      "TPDOCRESP     236960 non-null object\n",
      "DTDECLARAC    236960 non-null object\n",
      "ESCMAEAGR1    236960 non-null object\n",
      "TPROBSON      236960 non-null object\n",
      "STDNEPIDEM    236960 non-null object\n",
      "STDNNOVA      236960 non-null object\n",
      "CODPAISRES    236960 non-null object\n",
      "PARIDADE      236960 non-null object\n",
      "dtypes: object(63)\n",
      "memory usage: 113.9+ MB\n"
     ]
    }
   ],
   "source": [
    "df.info()"
   ]
  },
  {
   "cell_type": "markdown",
   "metadata": {},
   "source": [
    "Aqui notamos que varias linhas estão com dados em branco mas isso não se refletiu no `.info()`. Vamos descobrir o porque"
   ]
  },
  {
   "cell_type": "code",
   "execution_count": 4,
   "metadata": {},
   "outputs": [
    {
     "data": {
      "text/plain": [
       "''"
      ]
     },
     "execution_count": 4,
     "metadata": {},
     "output_type": "execute_result"
    }
   ],
   "source": [
    "df.loc[0][\"NUMERODV\"]"
   ]
  },
  {
   "cell_type": "code",
   "execution_count": 5,
   "metadata": {},
   "outputs": [],
   "source": [
    "import numpy\n",
    "df.replace(\"\", numpy.nan, inplace=True)"
   ]
  },
  {
   "cell_type": "code",
   "execution_count": 6,
   "metadata": {},
   "outputs": [
    {
     "name": "stdout",
     "output_type": "stream",
     "text": [
      "<class 'pandas.core.frame.DataFrame'>\n",
      "RangeIndex: 236960 entries, 0 to 236959\n",
      "Data columns (total 63 columns):\n",
      "NUMERODN      236960 non-null object\n",
      "CODINST       236960 non-null object\n",
      "ORIGEM        236960 non-null object\n",
      "NUMERODV      236957 non-null object\n",
      "PREFIXODN     236957 non-null object\n",
      "CODESTAB      235941 non-null object\n",
      "CODMUNNASC    236960 non-null object\n",
      "LOCNASC       236960 non-null object\n",
      "IDADEMAE      236960 non-null object\n",
      "ESTCIVMAE     236000 non-null object\n",
      "ESCMAE        235691 non-null object\n",
      "CODOCUPMAE    204189 non-null object\n",
      "QTDFILVIVO    231039 non-null object\n",
      "QTDFILMORT    227792 non-null object\n",
      "CODMUNRES     236960 non-null object\n",
      "GESTACAO      231701 non-null object\n",
      "GRAVIDEZ      236732 non-null object\n",
      "PARTO         236755 non-null object\n",
      "CONSULTAS     236958 non-null object\n",
      "DTNASC        236960 non-null object\n",
      "HORANASC      236706 non-null object\n",
      "SEXO          236960 non-null object\n",
      "APGAR1        228592 non-null object\n",
      "APGAR5        228947 non-null object\n",
      "RACACOR       230118 non-null object\n",
      "PESO          236955 non-null object\n",
      "IDANOMAL      236055 non-null object\n",
      "DTCADASTRO    236958 non-null object\n",
      "CODANOMAL     1664 non-null object\n",
      "NUMEROLOTE    236958 non-null object\n",
      "VERSAOSIST    236958 non-null object\n",
      "DTRECEBIM     236958 non-null object\n",
      "DIFDATA       236960 non-null object\n",
      "DTRECORIG     236958 non-null object\n",
      "NATURALMAE    235455 non-null object\n",
      "CODMUNNATU    235455 non-null object\n",
      "CODUFNATU     235455 non-null object\n",
      "ESCMAE2010    235683 non-null object\n",
      "SERIESCMAE    109949 non-null object\n",
      "DTNASCMAE     236609 non-null object\n",
      "RACACORMAE    230111 non-null object\n",
      "QTDGESTANT    231627 non-null object\n",
      "QTDPARTNOR    229556 non-null object\n",
      "QTDPARTCES    229369 non-null object\n",
      "IDADEPAI      128905 non-null object\n",
      "DTULTMENST    89842 non-null object\n",
      "SEMAGESTAC    231694 non-null object\n",
      "TPMETESTIM    231694 non-null object\n",
      "CONSPRENAT    234550 non-null object\n",
      "MESPRENAT     233010 non-null object\n",
      "TPAPRESENT    236359 non-null object\n",
      "STTRABPART    235830 non-null object\n",
      "STCESPARTO    141783 non-null object\n",
      "TPNASCASSI    236777 non-null object\n",
      "TPFUNCRESP    225672 non-null object\n",
      "TPDOCRESP     236950 non-null object\n",
      "DTDECLARAC    233343 non-null object\n",
      "ESCMAEAGR1    235683 non-null object\n",
      "TPROBSON      236960 non-null object\n",
      "STDNEPIDEM    236958 non-null object\n",
      "STDNNOVA      236960 non-null object\n",
      "CODPAISRES    236958 non-null object\n",
      "PARIDADE      236960 non-null object\n",
      "dtypes: object(63)\n",
      "memory usage: 113.9+ MB\n"
     ]
    }
   ],
   "source": [
    "df.info()"
   ]
  },
  {
   "cell_type": "markdown",
   "metadata": {},
   "source": [
    "O que aconteceu é que no `import` o pandas não entendeu que os dados vazios, `''`, eram considerados nulos, `NaN`. Por isso a gente trocou os tipos e agora o pandas entende que os dados estão em falta."
   ]
  },
  {
   "cell_type": "code",
   "execution_count": 7,
   "metadata": {},
   "outputs": [
    {
     "data": {
      "text/html": [
       "<div>\n",
       "<style scoped>\n",
       "    .dataframe tbody tr th:only-of-type {\n",
       "        vertical-align: middle;\n",
       "    }\n",
       "\n",
       "    .dataframe tbody tr th {\n",
       "        vertical-align: top;\n",
       "    }\n",
       "\n",
       "    .dataframe thead th {\n",
       "        text-align: right;\n",
       "    }\n",
       "</style>\n",
       "<table border=\"1\" class=\"dataframe\">\n",
       "  <thead>\n",
       "    <tr style=\"text-align: right;\">\n",
       "      <th></th>\n",
       "      <th>NUMERODN</th>\n",
       "      <th>CODINST</th>\n",
       "      <th>ORIGEM</th>\n",
       "      <th>NUMERODV</th>\n",
       "      <th>PREFIXODN</th>\n",
       "      <th>CODESTAB</th>\n",
       "      <th>CODMUNNASC</th>\n",
       "      <th>LOCNASC</th>\n",
       "      <th>IDADEMAE</th>\n",
       "      <th>ESTCIVMAE</th>\n",
       "      <th>...</th>\n",
       "      <th>TPNASCASSI</th>\n",
       "      <th>TPFUNCRESP</th>\n",
       "      <th>TPDOCRESP</th>\n",
       "      <th>DTDECLARAC</th>\n",
       "      <th>ESCMAEAGR1</th>\n",
       "      <th>TPROBSON</th>\n",
       "      <th>STDNEPIDEM</th>\n",
       "      <th>STDNNOVA</th>\n",
       "      <th>CODPAISRES</th>\n",
       "      <th>PARIDADE</th>\n",
       "    </tr>\n",
       "  </thead>\n",
       "  <tbody>\n",
       "    <tr>\n",
       "      <th>0</th>\n",
       "      <td>13660401</td>\n",
       "      <td>MRJ3303900001</td>\n",
       "      <td>1</td>\n",
       "      <td>NaN</td>\n",
       "      <td>NaN</td>\n",
       "      <td>2275554</td>\n",
       "      <td>330390</td>\n",
       "      <td>2</td>\n",
       "      <td>26</td>\n",
       "      <td>1</td>\n",
       "      <td>...</td>\n",
       "      <td>NaN</td>\n",
       "      <td>NaN</td>\n",
       "      <td>NaN</td>\n",
       "      <td>NaN</td>\n",
       "      <td>NaN</td>\n",
       "      <td>11</td>\n",
       "      <td>0</td>\n",
       "      <td>0</td>\n",
       "      <td>1</td>\n",
       "      <td>0</td>\n",
       "    </tr>\n",
       "    <tr>\n",
       "      <th>1</th>\n",
       "      <td>53258484</td>\n",
       "      <td>RRJ3304550000</td>\n",
       "      <td>1</td>\n",
       "      <td>0</td>\n",
       "      <td>30</td>\n",
       "      <td>2273101</td>\n",
       "      <td>330412</td>\n",
       "      <td>1</td>\n",
       "      <td>27</td>\n",
       "      <td>1</td>\n",
       "      <td>...</td>\n",
       "      <td>NaN</td>\n",
       "      <td>NaN</td>\n",
       "      <td>NaN</td>\n",
       "      <td>NaN</td>\n",
       "      <td>NaN</td>\n",
       "      <td>11</td>\n",
       "      <td>0</td>\n",
       "      <td>0</td>\n",
       "      <td>1</td>\n",
       "      <td>1</td>\n",
       "    </tr>\n",
       "    <tr>\n",
       "      <th>2</th>\n",
       "      <td>53258485</td>\n",
       "      <td>RRJ3304550000</td>\n",
       "      <td>1</td>\n",
       "      <td>8</td>\n",
       "      <td>30</td>\n",
       "      <td>2273101</td>\n",
       "      <td>330412</td>\n",
       "      <td>1</td>\n",
       "      <td>28</td>\n",
       "      <td>1</td>\n",
       "      <td>...</td>\n",
       "      <td>NaN</td>\n",
       "      <td>NaN</td>\n",
       "      <td>NaN</td>\n",
       "      <td>NaN</td>\n",
       "      <td>NaN</td>\n",
       "      <td>11</td>\n",
       "      <td>0</td>\n",
       "      <td>0</td>\n",
       "      <td>1</td>\n",
       "      <td>0</td>\n",
       "    </tr>\n",
       "    <tr>\n",
       "      <th>3</th>\n",
       "      <td>53302375</td>\n",
       "      <td>RRJ3304550000</td>\n",
       "      <td>1</td>\n",
       "      <td>2</td>\n",
       "      <td>30</td>\n",
       "      <td>2290073</td>\n",
       "      <td>330140</td>\n",
       "      <td>1</td>\n",
       "      <td>19</td>\n",
       "      <td>1</td>\n",
       "      <td>...</td>\n",
       "      <td>NaN</td>\n",
       "      <td>NaN</td>\n",
       "      <td>NaN</td>\n",
       "      <td>NaN</td>\n",
       "      <td>NaN</td>\n",
       "      <td>11</td>\n",
       "      <td>0</td>\n",
       "      <td>0</td>\n",
       "      <td>1</td>\n",
       "      <td>0</td>\n",
       "    </tr>\n",
       "    <tr>\n",
       "      <th>4</th>\n",
       "      <td>53302376</td>\n",
       "      <td>RRJ3304550000</td>\n",
       "      <td>1</td>\n",
       "      <td>0</td>\n",
       "      <td>30</td>\n",
       "      <td>2290073</td>\n",
       "      <td>330140</td>\n",
       "      <td>1</td>\n",
       "      <td>18</td>\n",
       "      <td>1</td>\n",
       "      <td>...</td>\n",
       "      <td>NaN</td>\n",
       "      <td>NaN</td>\n",
       "      <td>NaN</td>\n",
       "      <td>NaN</td>\n",
       "      <td>NaN</td>\n",
       "      <td>11</td>\n",
       "      <td>0</td>\n",
       "      <td>0</td>\n",
       "      <td>1</td>\n",
       "      <td>1</td>\n",
       "    </tr>\n",
       "  </tbody>\n",
       "</table>\n",
       "<p>5 rows × 63 columns</p>\n",
       "</div>"
      ],
      "text/plain": [
       "   NUMERODN        CODINST ORIGEM NUMERODV PREFIXODN CODESTAB CODMUNNASC  \\\n",
       "0  13660401  MRJ3303900001      1      NaN       NaN  2275554     330390   \n",
       "1  53258484  RRJ3304550000      1        0        30  2273101     330412   \n",
       "2  53258485  RRJ3304550000      1        8        30  2273101     330412   \n",
       "3  53302375  RRJ3304550000      1        2        30  2290073     330140   \n",
       "4  53302376  RRJ3304550000      1        0        30  2290073     330140   \n",
       "\n",
       "  LOCNASC IDADEMAE ESTCIVMAE   ...    TPNASCASSI TPFUNCRESP TPDOCRESP  \\\n",
       "0       2       26         1   ...           NaN        NaN       NaN   \n",
       "1       1       27         1   ...           NaN        NaN       NaN   \n",
       "2       1       28         1   ...           NaN        NaN       NaN   \n",
       "3       1       19         1   ...           NaN        NaN       NaN   \n",
       "4       1       18         1   ...           NaN        NaN       NaN   \n",
       "\n",
       "  DTDECLARAC ESCMAEAGR1 TPROBSON STDNEPIDEM STDNNOVA CODPAISRES PARIDADE  \n",
       "0        NaN        NaN       11          0        0          1        0  \n",
       "1        NaN        NaN       11          0        0          1        1  \n",
       "2        NaN        NaN       11          0        0          1        0  \n",
       "3        NaN        NaN       11          0        0          1        0  \n",
       "4        NaN        NaN       11          0        0          1        1  \n",
       "\n",
       "[5 rows x 63 columns]"
      ]
     },
     "execution_count": 7,
     "metadata": {},
     "output_type": "execute_result"
    }
   ],
   "source": [
    "df.head()"
   ]
  },
  {
   "cell_type": "markdown",
   "metadata": {},
   "source": [
    "-----\n",
    "Vamos analisar o nome das colunas e trocar de nome as que estiverem ilegiveis."
   ]
  },
  {
   "cell_type": "code",
   "execution_count": 8,
   "metadata": {},
   "outputs": [
    {
     "data": {
      "text/plain": [
       "['NUMERODN',\n",
       " 'CODINST',\n",
       " 'ORIGEM',\n",
       " 'NUMERODV',\n",
       " 'PREFIXODN',\n",
       " 'CODESTAB',\n",
       " 'CODMUNNASC',\n",
       " 'LOCNASC',\n",
       " 'IDADEMAE',\n",
       " 'ESTCIVMAE',\n",
       " 'ESCMAE',\n",
       " 'CODOCUPMAE',\n",
       " 'QTDFILVIVO',\n",
       " 'QTDFILMORT',\n",
       " 'CODMUNRES',\n",
       " 'GESTACAO',\n",
       " 'GRAVIDEZ',\n",
       " 'PARTO',\n",
       " 'CONSULTAS',\n",
       " 'DTNASC',\n",
       " 'HORANASC',\n",
       " 'SEXO',\n",
       " 'APGAR1',\n",
       " 'APGAR5',\n",
       " 'RACACOR',\n",
       " 'PESO',\n",
       " 'IDANOMAL',\n",
       " 'DTCADASTRO',\n",
       " 'CODANOMAL',\n",
       " 'NUMEROLOTE',\n",
       " 'VERSAOSIST',\n",
       " 'DTRECEBIM',\n",
       " 'DIFDATA',\n",
       " 'DTRECORIG',\n",
       " 'NATURALMAE',\n",
       " 'CODMUNNATU',\n",
       " 'CODUFNATU',\n",
       " 'ESCMAE2010',\n",
       " 'SERIESCMAE',\n",
       " 'DTNASCMAE',\n",
       " 'RACACORMAE',\n",
       " 'QTDGESTANT',\n",
       " 'QTDPARTNOR',\n",
       " 'QTDPARTCES',\n",
       " 'IDADEPAI',\n",
       " 'DTULTMENST',\n",
       " 'SEMAGESTAC',\n",
       " 'TPMETESTIM',\n",
       " 'CONSPRENAT',\n",
       " 'MESPRENAT',\n",
       " 'TPAPRESENT',\n",
       " 'STTRABPART',\n",
       " 'STCESPARTO',\n",
       " 'TPNASCASSI',\n",
       " 'TPFUNCRESP',\n",
       " 'TPDOCRESP',\n",
       " 'DTDECLARAC',\n",
       " 'ESCMAEAGR1',\n",
       " 'TPROBSON',\n",
       " 'STDNEPIDEM',\n",
       " 'STDNNOVA',\n",
       " 'CODPAISRES',\n",
       " 'PARIDADE']"
      ]
     },
     "execution_count": 8,
     "metadata": {},
     "output_type": "execute_result"
    }
   ],
   "source": [
    "list(df.columns)"
   ]
  },
  {
   "cell_type": "code",
   "execution_count": 9,
   "metadata": {},
   "outputs": [],
   "source": [
    "translate_dict = {\n",
    "    \"LOCNASC\": \"LOCAL_NASCIMENTO\",\n",
    "    \"ESTCIVMAE\": \"EST_CIVIL_MAE\",\n",
    "    \"ESCMAE\": \"ESCOLARIDADE_MAE\",\n",
    "    \"QTDFILVIVO\": \"FILHOS_VIVOS\",\n",
    "    \"QTDFILMORT\": \"FILHOS_MORTOS\",\n",
    "    \"DTNASC\": \"DATA_NASCIMENTO\",\n",
    "    \"HORANASC\": \"HORA_NASCIMENTO\",\n",
    "    \"APGAR1\": \"APGAR_1\",\n",
    "    \"APGAR5\": \"APGAR_5\",\n",
    "    \"RACACOR\": \"RACA_COR\",\n",
    "    \"IDANOMAL\": \"ANOMALIA_CONGENITA\",\n",
    "    \"DTCADASTR0\": \"DATA_CADASTRO\",\n",
    "    \"DTRECEBIM\": \"DATA_RECEBIMENTO\",\n",
    "    \"UFINFORM\": \"UF\",\n",
    "    \"SEMAGESTAC\": \"SEMANA_GESTACAO\",\n",
    "    \"DTULTMENST\": \"ULTIMA_MENSTRUACAO\",\n",
    "    \"DIFDATA\": \"DIFERENCA_DATA\",\n",
    "    \"DTNASCMAE\": \"DATA_NASCIMENTO_MAE\",\n",
    "    \"RACACORMAE\": \"RACA_COR_MAE\",\n",
    "    \"QTDGESTANT\": \"QTD_GESTACAO\",\n",
    "    \"QTDPARTNOR\": \"QTD_PARTO_NORMAL\",\n",
    "    \"QTDPARTCES\": \"QTD_CESARIA\",\n",
    "\n",
    "}\n",
    "to_delete = [\"NUMERODN\", \"CODESTAB\", \"CODINST\", \"CODMUNRES\", \"CODMUNNATU\", \"CODUFNATU\", \"ESCMAE2010\", ]"
   ]
  },
  {
   "cell_type": "code",
   "execution_count": 10,
   "metadata": {},
   "outputs": [],
   "source": [
    "for column in to_delete:\n",
    "    del df[column]"
   ]
  },
  {
   "cell_type": "code",
   "execution_count": 11,
   "metadata": {},
   "outputs": [],
   "source": [
    "df.rename(columns=translate_dict, inplace=True)"
   ]
  },
  {
   "cell_type": "code",
   "execution_count": 12,
   "metadata": {},
   "outputs": [
    {
     "data": {
      "text/plain": [
       "Index(['ORIGEM', 'NUMERODV', 'PREFIXODN', 'CODMUNNASC', 'LOCAL_NASCIMENTO',\n",
       "       'IDADEMAE', 'EST_CIVIL_MAE', 'ESCOLARIDADE_MAE', 'CODOCUPMAE',\n",
       "       'FILHOS_VIVOS', 'FILHOS_MORTOS', 'GESTACAO', 'GRAVIDEZ', 'PARTO',\n",
       "       'CONSULTAS', 'DATA_NASCIMENTO', 'HORA_NASCIMENTO', 'SEXO', 'APGAR_1',\n",
       "       'APGAR_5', 'RACA_COR', 'PESO', 'ANOMALIA_CONGENITA', 'DTCADASTRO',\n",
       "       'CODANOMAL', 'NUMEROLOTE', 'VERSAOSIST', 'DATA_RECEBIMENTO',\n",
       "       'DIFERENCA_DATA', 'DTRECORIG', 'NATURALMAE', 'SERIESCMAE',\n",
       "       'DATA_NASCIMENTO_MAE', 'RACA_COR_MAE', 'QTD_GESTACAO',\n",
       "       'QTD_PARTO_NORMAL', 'QTD_CESARIA', 'IDADEPAI', 'ULTIMA_MENSTRUACAO',\n",
       "       'SEMANA_GESTACAO', 'TPMETESTIM', 'CONSPRENAT', 'MESPRENAT',\n",
       "       'TPAPRESENT', 'STTRABPART', 'STCESPARTO', 'TPNASCASSI', 'TPFUNCRESP',\n",
       "       'TPDOCRESP', 'DTDECLARAC', 'ESCMAEAGR1', 'TPROBSON', 'STDNEPIDEM',\n",
       "       'STDNNOVA', 'CODPAISRES', 'PARIDADE'],\n",
       "      dtype='object')"
      ]
     },
     "execution_count": 12,
     "metadata": {},
     "output_type": "execute_result"
    }
   ],
   "source": [
    "df.columns"
   ]
  },
  {
   "cell_type": "code",
   "execution_count": 13,
   "metadata": {},
   "outputs": [
    {
     "data": {
      "text/html": [
       "<div>\n",
       "<style scoped>\n",
       "    .dataframe tbody tr th:only-of-type {\n",
       "        vertical-align: middle;\n",
       "    }\n",
       "\n",
       "    .dataframe tbody tr th {\n",
       "        vertical-align: top;\n",
       "    }\n",
       "\n",
       "    .dataframe thead th {\n",
       "        text-align: right;\n",
       "    }\n",
       "</style>\n",
       "<table border=\"1\" class=\"dataframe\">\n",
       "  <thead>\n",
       "    <tr style=\"text-align: right;\">\n",
       "      <th></th>\n",
       "      <th>ORIGEM</th>\n",
       "      <th>NUMERODV</th>\n",
       "      <th>PREFIXODN</th>\n",
       "      <th>CODMUNNASC</th>\n",
       "      <th>LOCAL_NASCIMENTO</th>\n",
       "      <th>IDADEMAE</th>\n",
       "      <th>EST_CIVIL_MAE</th>\n",
       "      <th>ESCOLARIDADE_MAE</th>\n",
       "      <th>CODOCUPMAE</th>\n",
       "      <th>FILHOS_VIVOS</th>\n",
       "      <th>...</th>\n",
       "      <th>TPNASCASSI</th>\n",
       "      <th>TPFUNCRESP</th>\n",
       "      <th>TPDOCRESP</th>\n",
       "      <th>DTDECLARAC</th>\n",
       "      <th>ESCMAEAGR1</th>\n",
       "      <th>TPROBSON</th>\n",
       "      <th>STDNEPIDEM</th>\n",
       "      <th>STDNNOVA</th>\n",
       "      <th>CODPAISRES</th>\n",
       "      <th>PARIDADE</th>\n",
       "    </tr>\n",
       "  </thead>\n",
       "  <tbody>\n",
       "    <tr>\n",
       "      <th>0</th>\n",
       "      <td>1</td>\n",
       "      <td>NaN</td>\n",
       "      <td>NaN</td>\n",
       "      <td>330390</td>\n",
       "      <td>2</td>\n",
       "      <td>26</td>\n",
       "      <td>1</td>\n",
       "      <td>2</td>\n",
       "      <td>763305</td>\n",
       "      <td>99</td>\n",
       "      <td>...</td>\n",
       "      <td>NaN</td>\n",
       "      <td>NaN</td>\n",
       "      <td>NaN</td>\n",
       "      <td>NaN</td>\n",
       "      <td>NaN</td>\n",
       "      <td>11</td>\n",
       "      <td>0</td>\n",
       "      <td>0</td>\n",
       "      <td>1</td>\n",
       "      <td>0</td>\n",
       "    </tr>\n",
       "    <tr>\n",
       "      <th>1</th>\n",
       "      <td>1</td>\n",
       "      <td>0</td>\n",
       "      <td>30</td>\n",
       "      <td>330412</td>\n",
       "      <td>1</td>\n",
       "      <td>27</td>\n",
       "      <td>1</td>\n",
       "      <td>3</td>\n",
       "      <td>NaN</td>\n",
       "      <td>04</td>\n",
       "      <td>...</td>\n",
       "      <td>NaN</td>\n",
       "      <td>NaN</td>\n",
       "      <td>NaN</td>\n",
       "      <td>NaN</td>\n",
       "      <td>NaN</td>\n",
       "      <td>11</td>\n",
       "      <td>0</td>\n",
       "      <td>0</td>\n",
       "      <td>1</td>\n",
       "      <td>1</td>\n",
       "    </tr>\n",
       "    <tr>\n",
       "      <th>2</th>\n",
       "      <td>1</td>\n",
       "      <td>8</td>\n",
       "      <td>30</td>\n",
       "      <td>330412</td>\n",
       "      <td>1</td>\n",
       "      <td>28</td>\n",
       "      <td>1</td>\n",
       "      <td>4</td>\n",
       "      <td>513435</td>\n",
       "      <td>00</td>\n",
       "      <td>...</td>\n",
       "      <td>NaN</td>\n",
       "      <td>NaN</td>\n",
       "      <td>NaN</td>\n",
       "      <td>NaN</td>\n",
       "      <td>NaN</td>\n",
       "      <td>11</td>\n",
       "      <td>0</td>\n",
       "      <td>0</td>\n",
       "      <td>1</td>\n",
       "      <td>0</td>\n",
       "    </tr>\n",
       "    <tr>\n",
       "      <th>3</th>\n",
       "      <td>1</td>\n",
       "      <td>2</td>\n",
       "      <td>30</td>\n",
       "      <td>330140</td>\n",
       "      <td>1</td>\n",
       "      <td>19</td>\n",
       "      <td>1</td>\n",
       "      <td>3</td>\n",
       "      <td>NaN</td>\n",
       "      <td>00</td>\n",
       "      <td>...</td>\n",
       "      <td>NaN</td>\n",
       "      <td>NaN</td>\n",
       "      <td>NaN</td>\n",
       "      <td>NaN</td>\n",
       "      <td>NaN</td>\n",
       "      <td>11</td>\n",
       "      <td>0</td>\n",
       "      <td>0</td>\n",
       "      <td>1</td>\n",
       "      <td>0</td>\n",
       "    </tr>\n",
       "    <tr>\n",
       "      <th>4</th>\n",
       "      <td>1</td>\n",
       "      <td>0</td>\n",
       "      <td>30</td>\n",
       "      <td>330140</td>\n",
       "      <td>1</td>\n",
       "      <td>18</td>\n",
       "      <td>1</td>\n",
       "      <td>4</td>\n",
       "      <td>NaN</td>\n",
       "      <td>02</td>\n",
       "      <td>...</td>\n",
       "      <td>NaN</td>\n",
       "      <td>NaN</td>\n",
       "      <td>NaN</td>\n",
       "      <td>NaN</td>\n",
       "      <td>NaN</td>\n",
       "      <td>11</td>\n",
       "      <td>0</td>\n",
       "      <td>0</td>\n",
       "      <td>1</td>\n",
       "      <td>1</td>\n",
       "    </tr>\n",
       "  </tbody>\n",
       "</table>\n",
       "<p>5 rows × 56 columns</p>\n",
       "</div>"
      ],
      "text/plain": [
       "  ORIGEM NUMERODV PREFIXODN CODMUNNASC LOCAL_NASCIMENTO IDADEMAE  \\\n",
       "0      1      NaN       NaN     330390                2       26   \n",
       "1      1        0        30     330412                1       27   \n",
       "2      1        8        30     330412                1       28   \n",
       "3      1        2        30     330140                1       19   \n",
       "4      1        0        30     330140                1       18   \n",
       "\n",
       "  EST_CIVIL_MAE ESCOLARIDADE_MAE CODOCUPMAE FILHOS_VIVOS   ...    TPNASCASSI  \\\n",
       "0             1                2     763305           99   ...           NaN   \n",
       "1             1                3        NaN           04   ...           NaN   \n",
       "2             1                4     513435           00   ...           NaN   \n",
       "3             1                3        NaN           00   ...           NaN   \n",
       "4             1                4        NaN           02   ...           NaN   \n",
       "\n",
       "  TPFUNCRESP TPDOCRESP DTDECLARAC ESCMAEAGR1 TPROBSON STDNEPIDEM STDNNOVA  \\\n",
       "0        NaN       NaN        NaN        NaN       11          0        0   \n",
       "1        NaN       NaN        NaN        NaN       11          0        0   \n",
       "2        NaN       NaN        NaN        NaN       11          0        0   \n",
       "3        NaN       NaN        NaN        NaN       11          0        0   \n",
       "4        NaN       NaN        NaN        NaN       11          0        0   \n",
       "\n",
       "  CODPAISRES PARIDADE  \n",
       "0          1        0  \n",
       "1          1        1  \n",
       "2          1        0  \n",
       "3          1        0  \n",
       "4          1        1  \n",
       "\n",
       "[5 rows x 56 columns]"
      ]
     },
     "execution_count": 13,
     "metadata": {},
     "output_type": "execute_result"
    }
   ],
   "source": [
    "df.head()"
   ]
  },
  {
   "cell_type": "markdown",
   "metadata": {},
   "source": [
    "---------\n",
    "Mudamos pra deixar mais claro o nome das colunas! Agora vamos olhar os valores.\n",
    "\n",
    "Alguns nao fazem sentido ser numericos, vamos trocar por valores de texto."
   ]
  },
  {
   "cell_type": "code",
   "execution_count": 14,
   "metadata": {},
   "outputs": [],
   "source": [
    "def ajuste_estado_civil(estado_civil_num):\n",
    "    estado_civil = {\n",
    "        1: \"solteira\",\n",
    "        2: \"casada\",\n",
    "        3: \"viuva\",\n",
    "        4: \"divorciada\",\n",
    "        9: \"ignorado\",\n",
    "    }\n",
    "    return estado_civil.get(estado_civil_num, \"ignorado\")\n",
    "df.EST_CIVIL_MAE = df.EST_CIVIL_MAE.fillna(9).astype(int)\n",
    "df.EST_CIVIL_MAE = df.EST_CIVIL_MAE.apply(ajuste_estado_civil)"
   ]
  },
  {
   "cell_type": "code",
   "execution_count": 15,
   "metadata": {},
   "outputs": [
    {
     "data": {
      "text/plain": [
       "0      solteira\n",
       "1      solteira\n",
       "2      solteira\n",
       "3      solteira\n",
       "4      solteira\n",
       "5    divorciada\n",
       "6      solteira\n",
       "7      ignorado\n",
       "8      ignorado\n",
       "9      solteira\n",
       "Name: EST_CIVIL_MAE, dtype: object"
      ]
     },
     "execution_count": 15,
     "metadata": {},
     "output_type": "execute_result"
    }
   ],
   "source": [
    "df.EST_CIVIL_MAE.head(10)"
   ]
  },
  {
   "cell_type": "code",
   "execution_count": 16,
   "metadata": {},
   "outputs": [
    {
     "data": {
      "text/plain": [
       "array(['2', '3', '4', nan, '5', '9', '1'], dtype=object)"
      ]
     },
     "execution_count": 16,
     "metadata": {},
     "output_type": "execute_result"
    }
   ],
   "source": [
    "df.ESCOLARIDADE_MAE.unique()"
   ]
  },
  {
   "cell_type": "code",
   "execution_count": 17,
   "metadata": {},
   "outputs": [],
   "source": [
    "def ajuste_escolaridade_mae(escolaridade_num):\n",
    "    escolaridade = {\n",
    "        1: \"nenhuma\",\n",
    "        2: \"1 a 3 anos\",\n",
    "        3: \"4 a 7 anos\",\n",
    "        4: \"8 a 11 anos\",\n",
    "        5: \"12 ou mais\",\n",
    "        9: \"ignorado\",\n",
    "    }\n",
    "    return escolaridade.get(escolaridade_num, \"ignorado\")\n",
    "df.ESCOLARIDADE_MAE = df.ESCOLARIDADE_MAE.fillna(9).astype(int)\n",
    "df.ESCOLARIDADE_MAE = df.ESCOLARIDADE_MAE.apply(ajuste_escolaridade_mae)"
   ]
  },
  {
   "cell_type": "code",
   "execution_count": 18,
   "metadata": {},
   "outputs": [
    {
     "data": {
      "text/plain": [
       "0     1 a 3 anos\n",
       "1     4 a 7 anos\n",
       "2    8 a 11 anos\n",
       "3     4 a 7 anos\n",
       "4    8 a 11 anos\n",
       "Name: ESCOLARIDADE_MAE, dtype: object"
      ]
     },
     "execution_count": 18,
     "metadata": {},
     "output_type": "execute_result"
    }
   ],
   "source": [
    "df.ESCOLARIDADE_MAE.head()"
   ]
  },
  {
   "cell_type": "markdown",
   "metadata": {},
   "source": [
    "### Mudem a coluna PARTO para melhor leitura!\n",
    "\n",
    "Conforme a tabela abaixo, criem uma função para modificar a coluna PARTO.\n",
    "\n",
    "9: Ignorado\n",
    "\n",
    "1: Vaginal\n",
    "\n",
    "2: Cesáreo"
   ]
  },
  {
   "cell_type": "code",
   "execution_count": 19,
   "metadata": {},
   "outputs": [],
   "source": [
    "# Resposta\n",
    "def ajuste_parto(parto_num):\n",
    "    parto = {\n",
    "        9: \"ignorado\",\n",
    "        1: \"vaginal\",\n",
    "        2: \"cesário\",\n",
    "    }\n",
    "    return parto.get(parto_num, \"ignorado\")\n",
    "\n",
    "df.PARTO = df.PARTO.fillna(9).astype(int)\n",
    "df.PARTO = df.PARTO.apply(ajuste_parto)"
   ]
  },
  {
   "cell_type": "code",
   "execution_count": 20,
   "metadata": {},
   "outputs": [
    {
     "data": {
      "text/html": [
       "<div>\n",
       "<style scoped>\n",
       "    .dataframe tbody tr th:only-of-type {\n",
       "        vertical-align: middle;\n",
       "    }\n",
       "\n",
       "    .dataframe tbody tr th {\n",
       "        vertical-align: top;\n",
       "    }\n",
       "\n",
       "    .dataframe thead th {\n",
       "        text-align: right;\n",
       "    }\n",
       "</style>\n",
       "<table border=\"1\" class=\"dataframe\">\n",
       "  <thead>\n",
       "    <tr style=\"text-align: right;\">\n",
       "      <th></th>\n",
       "      <th>ORIGEM</th>\n",
       "      <th>NUMERODV</th>\n",
       "      <th>PREFIXODN</th>\n",
       "      <th>CODMUNNASC</th>\n",
       "      <th>LOCAL_NASCIMENTO</th>\n",
       "      <th>IDADEMAE</th>\n",
       "      <th>EST_CIVIL_MAE</th>\n",
       "      <th>ESCOLARIDADE_MAE</th>\n",
       "      <th>CODOCUPMAE</th>\n",
       "      <th>FILHOS_VIVOS</th>\n",
       "      <th>...</th>\n",
       "      <th>TPNASCASSI</th>\n",
       "      <th>TPFUNCRESP</th>\n",
       "      <th>TPDOCRESP</th>\n",
       "      <th>DTDECLARAC</th>\n",
       "      <th>ESCMAEAGR1</th>\n",
       "      <th>TPROBSON</th>\n",
       "      <th>STDNEPIDEM</th>\n",
       "      <th>STDNNOVA</th>\n",
       "      <th>CODPAISRES</th>\n",
       "      <th>PARIDADE</th>\n",
       "    </tr>\n",
       "  </thead>\n",
       "  <tbody>\n",
       "    <tr>\n",
       "      <th>0</th>\n",
       "      <td>1</td>\n",
       "      <td>NaN</td>\n",
       "      <td>NaN</td>\n",
       "      <td>330390</td>\n",
       "      <td>2</td>\n",
       "      <td>26</td>\n",
       "      <td>solteira</td>\n",
       "      <td>1 a 3 anos</td>\n",
       "      <td>763305</td>\n",
       "      <td>99</td>\n",
       "      <td>...</td>\n",
       "      <td>NaN</td>\n",
       "      <td>NaN</td>\n",
       "      <td>NaN</td>\n",
       "      <td>NaN</td>\n",
       "      <td>NaN</td>\n",
       "      <td>11</td>\n",
       "      <td>0</td>\n",
       "      <td>0</td>\n",
       "      <td>1</td>\n",
       "      <td>0</td>\n",
       "    </tr>\n",
       "    <tr>\n",
       "      <th>1</th>\n",
       "      <td>1</td>\n",
       "      <td>0</td>\n",
       "      <td>30</td>\n",
       "      <td>330412</td>\n",
       "      <td>1</td>\n",
       "      <td>27</td>\n",
       "      <td>solteira</td>\n",
       "      <td>4 a 7 anos</td>\n",
       "      <td>NaN</td>\n",
       "      <td>04</td>\n",
       "      <td>...</td>\n",
       "      <td>NaN</td>\n",
       "      <td>NaN</td>\n",
       "      <td>NaN</td>\n",
       "      <td>NaN</td>\n",
       "      <td>NaN</td>\n",
       "      <td>11</td>\n",
       "      <td>0</td>\n",
       "      <td>0</td>\n",
       "      <td>1</td>\n",
       "      <td>1</td>\n",
       "    </tr>\n",
       "    <tr>\n",
       "      <th>2</th>\n",
       "      <td>1</td>\n",
       "      <td>8</td>\n",
       "      <td>30</td>\n",
       "      <td>330412</td>\n",
       "      <td>1</td>\n",
       "      <td>28</td>\n",
       "      <td>solteira</td>\n",
       "      <td>8 a 11 anos</td>\n",
       "      <td>513435</td>\n",
       "      <td>00</td>\n",
       "      <td>...</td>\n",
       "      <td>NaN</td>\n",
       "      <td>NaN</td>\n",
       "      <td>NaN</td>\n",
       "      <td>NaN</td>\n",
       "      <td>NaN</td>\n",
       "      <td>11</td>\n",
       "      <td>0</td>\n",
       "      <td>0</td>\n",
       "      <td>1</td>\n",
       "      <td>0</td>\n",
       "    </tr>\n",
       "    <tr>\n",
       "      <th>3</th>\n",
       "      <td>1</td>\n",
       "      <td>2</td>\n",
       "      <td>30</td>\n",
       "      <td>330140</td>\n",
       "      <td>1</td>\n",
       "      <td>19</td>\n",
       "      <td>solteira</td>\n",
       "      <td>4 a 7 anos</td>\n",
       "      <td>NaN</td>\n",
       "      <td>00</td>\n",
       "      <td>...</td>\n",
       "      <td>NaN</td>\n",
       "      <td>NaN</td>\n",
       "      <td>NaN</td>\n",
       "      <td>NaN</td>\n",
       "      <td>NaN</td>\n",
       "      <td>11</td>\n",
       "      <td>0</td>\n",
       "      <td>0</td>\n",
       "      <td>1</td>\n",
       "      <td>0</td>\n",
       "    </tr>\n",
       "    <tr>\n",
       "      <th>4</th>\n",
       "      <td>1</td>\n",
       "      <td>0</td>\n",
       "      <td>30</td>\n",
       "      <td>330140</td>\n",
       "      <td>1</td>\n",
       "      <td>18</td>\n",
       "      <td>solteira</td>\n",
       "      <td>8 a 11 anos</td>\n",
       "      <td>NaN</td>\n",
       "      <td>02</td>\n",
       "      <td>...</td>\n",
       "      <td>NaN</td>\n",
       "      <td>NaN</td>\n",
       "      <td>NaN</td>\n",
       "      <td>NaN</td>\n",
       "      <td>NaN</td>\n",
       "      <td>11</td>\n",
       "      <td>0</td>\n",
       "      <td>0</td>\n",
       "      <td>1</td>\n",
       "      <td>1</td>\n",
       "    </tr>\n",
       "  </tbody>\n",
       "</table>\n",
       "<p>5 rows × 56 columns</p>\n",
       "</div>"
      ],
      "text/plain": [
       "  ORIGEM NUMERODV PREFIXODN CODMUNNASC LOCAL_NASCIMENTO IDADEMAE  \\\n",
       "0      1      NaN       NaN     330390                2       26   \n",
       "1      1        0        30     330412                1       27   \n",
       "2      1        8        30     330412                1       28   \n",
       "3      1        2        30     330140                1       19   \n",
       "4      1        0        30     330140                1       18   \n",
       "\n",
       "  EST_CIVIL_MAE ESCOLARIDADE_MAE CODOCUPMAE FILHOS_VIVOS   ...    TPNASCASSI  \\\n",
       "0      solteira       1 a 3 anos     763305           99   ...           NaN   \n",
       "1      solteira       4 a 7 anos        NaN           04   ...           NaN   \n",
       "2      solteira      8 a 11 anos     513435           00   ...           NaN   \n",
       "3      solteira       4 a 7 anos        NaN           00   ...           NaN   \n",
       "4      solteira      8 a 11 anos        NaN           02   ...           NaN   \n",
       "\n",
       "  TPFUNCRESP TPDOCRESP DTDECLARAC ESCMAEAGR1 TPROBSON STDNEPIDEM STDNNOVA  \\\n",
       "0        NaN       NaN        NaN        NaN       11          0        0   \n",
       "1        NaN       NaN        NaN        NaN       11          0        0   \n",
       "2        NaN       NaN        NaN        NaN       11          0        0   \n",
       "3        NaN       NaN        NaN        NaN       11          0        0   \n",
       "4        NaN       NaN        NaN        NaN       11          0        0   \n",
       "\n",
       "  CODPAISRES PARIDADE  \n",
       "0          1        0  \n",
       "1          1        1  \n",
       "2          1        0  \n",
       "3          1        0  \n",
       "4          1        1  \n",
       "\n",
       "[5 rows x 56 columns]"
      ]
     },
     "execution_count": 20,
     "metadata": {},
     "output_type": "execute_result"
    }
   ],
   "source": [
    "df.head()"
   ]
  },
  {
   "cell_type": "markdown",
   "metadata": {},
   "source": [
    "### Mudem o local de nascimento segundo a tabela abaixo\n",
    "\n",
    "9: Ignorado\n",
    "\n",
    "1: Hospital\n",
    "\n",
    "2: Outro Estab Saúde\n",
    "\n",
    "3: Domicílio\n",
    "\n",
    "4: Outros"
   ]
  },
  {
   "cell_type": "code",
   "execution_count": 21,
   "metadata": {},
   "outputs": [],
   "source": [
    "def ajuste_local_nascimento(local_num):\n",
    "    local = {\n",
    "        1: \"hospital\",\n",
    "        2: \"outro estabelecimento de saúde\",\n",
    "        3: \"domicilio\",\n",
    "        4: \"outros\",\n",
    "        9: \"ignorado\",\n",
    "    }\n",
    "    return local.get(local_num, \"ignorado\")\n",
    "\n",
    "df.LOCAL_NASCIMENTO = df.LOCAL_NASCIMENTO.fillna(9).astype(int)\n",
    "df.LOCAL_NASCIMENTO = df.LOCAL_NASCIMENTO.apply(ajuste_local_nascimento)"
   ]
  },
  {
   "cell_type": "code",
   "execution_count": 22,
   "metadata": {},
   "outputs": [],
   "source": [
    "df.FILHOS_VIVOS = df.FILHOS_VIVOS.fillna(-1).astype(int)\n",
    "df.FILHOS_MORTOS = df.FILHOS_MORTOS.fillna(-1).astype(int)\n",
    "df.IDADEMAE = df.IDADEMAE.astype(int)\n",
    "df.IDADEPAI = df.IDADEPAI.fillna(0).astype(int)\n",
    "df.QTD_GESTACAO = df.QTD_GESTACAO.fillna(-1).astype(int)\n",
    "df.QTD_PARTO_NORMAL = df.QTD_PARTO_NORMAL.fillna(-1).astype(int)\n",
    "df.QTD_CESARIA = df.QTD_CESARIA.fillna(-1).astype(int)\n",
    "df.APGAR_1 = df.APGAR_1.fillna(-1).astype(int)\n",
    "df.APGAR_5 = df.APGAR_5.fillna(-1).astype(int)\n",
    "df.PESO = df.PESO.fillna(0).astype(int)"
   ]
  },
  {
   "cell_type": "markdown",
   "metadata": {},
   "source": [
    "----\n",
    "Algumas colunas podem ser melhor utilizadas se juntas, como DATA_NASCIMENTO E HORA_NASCIMENTO. Vamos junta-las para aproveitar os dados melhor."
   ]
  },
  {
   "cell_type": "code",
   "execution_count": 23,
   "metadata": {},
   "outputs": [
    {
     "data": {
      "text/plain": [
       "0   2015-04-04 19:20:00\n",
       "1   2015-05-18 06:15:00\n",
       "2   2015-10-14 04:55:00\n",
       "3   2015-06-23 23:09:00\n",
       "4   2015-10-07 04:20:00\n",
       "Name: DATA_HORA_NASCIMENTO, dtype: datetime64[ns]"
      ]
     },
     "execution_count": 23,
     "metadata": {},
     "output_type": "execute_result"
    }
   ],
   "source": [
    "df[\"DATA_HORA_NASCIMENTO\"] = df.DATA_NASCIMENTO + df.HORA_NASCIMENTO #o pandas só permite criação de colunas desse jeito.\n",
    "df.DATA_HORA_NASCIMENTO = pandas.to_datetime(df.DATA_HORA_NASCIMENTO, format=\"%d%m%Y%H%M\")\n",
    "df.DATA_HORA_NASCIMENTO.head()"
   ]
  },
  {
   "cell_type": "markdown",
   "metadata": {},
   "source": [
    "# transforme a coluna ULTIMA_MENSTRUACAO para data."
   ]
  },
  {
   "cell_type": "code",
   "execution_count": 24,
   "metadata": {},
   "outputs": [
    {
     "data": {
      "text/plain": [
       "0          NaT\n",
       "1          NaT\n",
       "2          NaT\n",
       "3          NaT\n",
       "4          NaT\n",
       "5          NaT\n",
       "6          NaT\n",
       "7   2015-01-01\n",
       "8          NaT\n",
       "9          NaT\n",
       "Name: ULTIMA_MENSTRUACAO, dtype: datetime64[ns]"
      ]
     },
     "execution_count": 24,
     "metadata": {},
     "output_type": "execute_result"
    }
   ],
   "source": [
    "df.ULTIMA_MENSTRUACAO = pandas.to_datetime(df.ULTIMA_MENSTRUACAO, format=\"%d%m%Y\")\n",
    "df.ULTIMA_MENSTRUACAO.head(10)"
   ]
  },
  {
   "cell_type": "code",
   "execution_count": 25,
   "metadata": {},
   "outputs": [
    {
     "data": {
      "text/plain": [
       "ORIGEM                          object\n",
       "NUMERODV                        object\n",
       "PREFIXODN                       object\n",
       "CODMUNNASC                      object\n",
       "LOCAL_NASCIMENTO                object\n",
       "IDADEMAE                         int64\n",
       "EST_CIVIL_MAE                   object\n",
       "ESCOLARIDADE_MAE                object\n",
       "CODOCUPMAE                      object\n",
       "FILHOS_VIVOS                     int64\n",
       "FILHOS_MORTOS                    int64\n",
       "GESTACAO                        object\n",
       "GRAVIDEZ                        object\n",
       "PARTO                           object\n",
       "CONSULTAS                       object\n",
       "DATA_NASCIMENTO                 object\n",
       "HORA_NASCIMENTO                 object\n",
       "SEXO                            object\n",
       "APGAR_1                          int64\n",
       "APGAR_5                          int64\n",
       "RACA_COR                        object\n",
       "PESO                             int64\n",
       "ANOMALIA_CONGENITA              object\n",
       "DTCADASTRO                      object\n",
       "CODANOMAL                       object\n",
       "NUMEROLOTE                      object\n",
       "VERSAOSIST                      object\n",
       "DATA_RECEBIMENTO                object\n",
       "DIFERENCA_DATA                  object\n",
       "DTRECORIG                       object\n",
       "NATURALMAE                      object\n",
       "SERIESCMAE                      object\n",
       "DATA_NASCIMENTO_MAE             object\n",
       "RACA_COR_MAE                    object\n",
       "QTD_GESTACAO                     int64\n",
       "QTD_PARTO_NORMAL                 int64\n",
       "QTD_CESARIA                      int64\n",
       "IDADEPAI                         int64\n",
       "ULTIMA_MENSTRUACAO      datetime64[ns]\n",
       "SEMANA_GESTACAO                 object\n",
       "TPMETESTIM                      object\n",
       "CONSPRENAT                      object\n",
       "MESPRENAT                       object\n",
       "TPAPRESENT                      object\n",
       "STTRABPART                      object\n",
       "STCESPARTO                      object\n",
       "TPNASCASSI                      object\n",
       "TPFUNCRESP                      object\n",
       "TPDOCRESP                       object\n",
       "DTDECLARAC                      object\n",
       "ESCMAEAGR1                      object\n",
       "TPROBSON                        object\n",
       "STDNEPIDEM                      object\n",
       "STDNNOVA                        object\n",
       "CODPAISRES                      object\n",
       "PARIDADE                        object\n",
       "DATA_HORA_NASCIMENTO    datetime64[ns]\n",
       "dtype: object"
      ]
     },
     "execution_count": 25,
     "metadata": {},
     "output_type": "execute_result"
    }
   ],
   "source": [
    "df.dtypes"
   ]
  },
  {
   "cell_type": "markdown",
   "metadata": {},
   "source": [
    "------\n",
    "## Analise exploratoria\n",
    "\n",
    "Agora que acertamos nossos dados, vamos poder fazer analises conhece-lo melhor, criar graficos e hipoteses.\n"
   ]
  },
  {
   "cell_type": "code",
   "execution_count": 26,
   "metadata": {},
   "outputs": [
    {
     "data": {
      "text/html": [
       "<div>\n",
       "<style scoped>\n",
       "    .dataframe tbody tr th:only-of-type {\n",
       "        vertical-align: middle;\n",
       "    }\n",
       "\n",
       "    .dataframe tbody tr th {\n",
       "        vertical-align: top;\n",
       "    }\n",
       "\n",
       "    .dataframe thead th {\n",
       "        text-align: right;\n",
       "    }\n",
       "</style>\n",
       "<table border=\"1\" class=\"dataframe\">\n",
       "  <thead>\n",
       "    <tr style=\"text-align: right;\">\n",
       "      <th></th>\n",
       "      <th>ORIGEM</th>\n",
       "      <th>NUMERODV</th>\n",
       "      <th>PREFIXODN</th>\n",
       "      <th>CODMUNNASC</th>\n",
       "      <th>LOCAL_NASCIMENTO</th>\n",
       "      <th>IDADEMAE</th>\n",
       "      <th>EST_CIVIL_MAE</th>\n",
       "      <th>ESCOLARIDADE_MAE</th>\n",
       "      <th>CODOCUPMAE</th>\n",
       "      <th>FILHOS_VIVOS</th>\n",
       "      <th>...</th>\n",
       "      <th>TPFUNCRESP</th>\n",
       "      <th>TPDOCRESP</th>\n",
       "      <th>DTDECLARAC</th>\n",
       "      <th>ESCMAEAGR1</th>\n",
       "      <th>TPROBSON</th>\n",
       "      <th>STDNEPIDEM</th>\n",
       "      <th>STDNNOVA</th>\n",
       "      <th>CODPAISRES</th>\n",
       "      <th>PARIDADE</th>\n",
       "      <th>DATA_HORA_NASCIMENTO</th>\n",
       "    </tr>\n",
       "  </thead>\n",
       "  <tbody>\n",
       "    <tr>\n",
       "      <th>0</th>\n",
       "      <td>1</td>\n",
       "      <td>NaN</td>\n",
       "      <td>NaN</td>\n",
       "      <td>330390</td>\n",
       "      <td>outro estabelecimento de saúde</td>\n",
       "      <td>26</td>\n",
       "      <td>solteira</td>\n",
       "      <td>1 a 3 anos</td>\n",
       "      <td>763305</td>\n",
       "      <td>99</td>\n",
       "      <td>...</td>\n",
       "      <td>NaN</td>\n",
       "      <td>NaN</td>\n",
       "      <td>NaN</td>\n",
       "      <td>NaN</td>\n",
       "      <td>11</td>\n",
       "      <td>0</td>\n",
       "      <td>0</td>\n",
       "      <td>1</td>\n",
       "      <td>0</td>\n",
       "      <td>2015-04-04 19:20:00</td>\n",
       "    </tr>\n",
       "    <tr>\n",
       "      <th>1</th>\n",
       "      <td>1</td>\n",
       "      <td>0</td>\n",
       "      <td>30</td>\n",
       "      <td>330412</td>\n",
       "      <td>hospital</td>\n",
       "      <td>27</td>\n",
       "      <td>solteira</td>\n",
       "      <td>4 a 7 anos</td>\n",
       "      <td>NaN</td>\n",
       "      <td>4</td>\n",
       "      <td>...</td>\n",
       "      <td>NaN</td>\n",
       "      <td>NaN</td>\n",
       "      <td>NaN</td>\n",
       "      <td>NaN</td>\n",
       "      <td>11</td>\n",
       "      <td>0</td>\n",
       "      <td>0</td>\n",
       "      <td>1</td>\n",
       "      <td>1</td>\n",
       "      <td>2015-05-18 06:15:00</td>\n",
       "    </tr>\n",
       "    <tr>\n",
       "      <th>2</th>\n",
       "      <td>1</td>\n",
       "      <td>8</td>\n",
       "      <td>30</td>\n",
       "      <td>330412</td>\n",
       "      <td>hospital</td>\n",
       "      <td>28</td>\n",
       "      <td>solteira</td>\n",
       "      <td>8 a 11 anos</td>\n",
       "      <td>513435</td>\n",
       "      <td>0</td>\n",
       "      <td>...</td>\n",
       "      <td>NaN</td>\n",
       "      <td>NaN</td>\n",
       "      <td>NaN</td>\n",
       "      <td>NaN</td>\n",
       "      <td>11</td>\n",
       "      <td>0</td>\n",
       "      <td>0</td>\n",
       "      <td>1</td>\n",
       "      <td>0</td>\n",
       "      <td>2015-10-14 04:55:00</td>\n",
       "    </tr>\n",
       "    <tr>\n",
       "      <th>3</th>\n",
       "      <td>1</td>\n",
       "      <td>2</td>\n",
       "      <td>30</td>\n",
       "      <td>330140</td>\n",
       "      <td>hospital</td>\n",
       "      <td>19</td>\n",
       "      <td>solteira</td>\n",
       "      <td>4 a 7 anos</td>\n",
       "      <td>NaN</td>\n",
       "      <td>0</td>\n",
       "      <td>...</td>\n",
       "      <td>NaN</td>\n",
       "      <td>NaN</td>\n",
       "      <td>NaN</td>\n",
       "      <td>NaN</td>\n",
       "      <td>11</td>\n",
       "      <td>0</td>\n",
       "      <td>0</td>\n",
       "      <td>1</td>\n",
       "      <td>0</td>\n",
       "      <td>2015-06-23 23:09:00</td>\n",
       "    </tr>\n",
       "    <tr>\n",
       "      <th>4</th>\n",
       "      <td>1</td>\n",
       "      <td>0</td>\n",
       "      <td>30</td>\n",
       "      <td>330140</td>\n",
       "      <td>hospital</td>\n",
       "      <td>18</td>\n",
       "      <td>solteira</td>\n",
       "      <td>8 a 11 anos</td>\n",
       "      <td>NaN</td>\n",
       "      <td>2</td>\n",
       "      <td>...</td>\n",
       "      <td>NaN</td>\n",
       "      <td>NaN</td>\n",
       "      <td>NaN</td>\n",
       "      <td>NaN</td>\n",
       "      <td>11</td>\n",
       "      <td>0</td>\n",
       "      <td>0</td>\n",
       "      <td>1</td>\n",
       "      <td>1</td>\n",
       "      <td>2015-10-07 04:20:00</td>\n",
       "    </tr>\n",
       "  </tbody>\n",
       "</table>\n",
       "<p>5 rows × 57 columns</p>\n",
       "</div>"
      ],
      "text/plain": [
       "  ORIGEM NUMERODV PREFIXODN CODMUNNASC                LOCAL_NASCIMENTO  \\\n",
       "0      1      NaN       NaN     330390  outro estabelecimento de saúde   \n",
       "1      1        0        30     330412                        hospital   \n",
       "2      1        8        30     330412                        hospital   \n",
       "3      1        2        30     330140                        hospital   \n",
       "4      1        0        30     330140                        hospital   \n",
       "\n",
       "   IDADEMAE EST_CIVIL_MAE ESCOLARIDADE_MAE CODOCUPMAE  FILHOS_VIVOS  \\\n",
       "0        26      solteira       1 a 3 anos     763305            99   \n",
       "1        27      solteira       4 a 7 anos        NaN             4   \n",
       "2        28      solteira      8 a 11 anos     513435             0   \n",
       "3        19      solteira       4 a 7 anos        NaN             0   \n",
       "4        18      solteira      8 a 11 anos        NaN             2   \n",
       "\n",
       "           ...           TPFUNCRESP TPDOCRESP DTDECLARAC ESCMAEAGR1 TPROBSON  \\\n",
       "0          ...                  NaN       NaN        NaN        NaN       11   \n",
       "1          ...                  NaN       NaN        NaN        NaN       11   \n",
       "2          ...                  NaN       NaN        NaN        NaN       11   \n",
       "3          ...                  NaN       NaN        NaN        NaN       11   \n",
       "4          ...                  NaN       NaN        NaN        NaN       11   \n",
       "\n",
       "  STDNEPIDEM STDNNOVA CODPAISRES  PARIDADE  DATA_HORA_NASCIMENTO  \n",
       "0          0        0          1         0   2015-04-04 19:20:00  \n",
       "1          0        0          1         1   2015-05-18 06:15:00  \n",
       "2          0        0          1         0   2015-10-14 04:55:00  \n",
       "3          0        0          1         0   2015-06-23 23:09:00  \n",
       "4          0        0          1         1   2015-10-07 04:20:00  \n",
       "\n",
       "[5 rows x 57 columns]"
      ]
     },
     "execution_count": 26,
     "metadata": {},
     "output_type": "execute_result"
    }
   ],
   "source": [
    "df.head()"
   ]
  },
  {
   "cell_type": "code",
   "execution_count": 38,
   "metadata": {},
   "outputs": [],
   "source": [
    "# vamos criar uma coluna auxiliar para analises futuras\n",
    "df[\"nasceu\"] = 1"
   ]
  },
  {
   "cell_type": "code",
   "execution_count": 27,
   "metadata": {},
   "outputs": [],
   "source": [
    "% matplotlib inline"
   ]
  },
  {
   "cell_type": "code",
   "execution_count": 28,
   "metadata": {},
   "outputs": [
    {
     "data": {
      "text/plain": [
       "<matplotlib.axes._subplots.AxesSubplot at 0x7f07dc2f70b8>"
      ]
     },
     "execution_count": 28,
     "metadata": {},
     "output_type": "execute_result"
    },
    {
     "data": {
      "image/png": "[encoded data removed]",
      "text/plain": [
       "<Figure size 432x288 with 1 Axes>"
      ]
     },
     "metadata": {},
     "output_type": "display_data"
    }
   ],
   "source": [
    "df.IDADEMAE.hist(bins=50)"
   ]
  },
  {
   "cell_type": "code",
   "execution_count": 29,
   "metadata": {},
   "outputs": [
    {
     "data": {
      "text/plain": [
       "<matplotlib.axes._subplots.AxesSubplot at 0x7f07e35f0400>"
      ]
     },
     "execution_count": 29,
     "metadata": {},
     "output_type": "execute_result"
    },
    {
     "data": {
      "image/png": "[encoded data removed]",
      "text/plain": [
       "<Figure size 432x288 with 1 Axes>"
      ]
     },
     "metadata": {},
     "output_type": "display_data"
    }
   ],
   "source": [
    "df[df[\"IDADEPAI\"] > 0].IDADEPAI.hist(bins=50)"
   ]
  },
  {
   "cell_type": "code",
   "execution_count": 30,
   "metadata": {},
   "outputs": [
    {
     "data": {
      "text/plain": [
       "<matplotlib.axes._subplots.AxesSubplot at 0x7f07dec2a630>"
      ]
     },
     "execution_count": 30,
     "metadata": {},
     "output_type": "execute_result"
    },
    {
     "data": {
      "image/png": "[encoded data removed]",
      "text/plain": [
       "<Figure size 432x288 with 1 Axes>"
      ]
     },
     "metadata": {},
     "output_type": "display_data"
    }
   ],
   "source": [
    "df.IDADEMAE.hist(bins=50)\n",
    "df[df[\"IDADEPAI\"] > 0].IDADEPAI.hist(bins=50)"
   ]
  },
  {
   "cell_type": "code",
   "execution_count": 31,
   "metadata": {
    "scrolled": true
   },
   "outputs": [],
   "source": [
    "por_local = df.groupby(\"LOCAL_NASCIMENTO\")"
   ]
  },
  {
   "cell_type": "code",
   "execution_count": 45,
   "metadata": {},
   "outputs": [
    {
     "data": {
      "text/plain": [
       "LOCAL_NASCIMENTO\n",
       "domicilio                            728\n",
       "hospital                          235093\n",
       "ignorado                               6\n",
       "outro estabelecimento de saúde       848\n",
       "outros                               285\n",
       "Name: nasceu, dtype: int64"
      ]
     },
     "execution_count": 45,
     "metadata": {},
     "output_type": "execute_result"
    }
   ],
   "source": [
    "por_local.nasceu.count()"
   ]
  },
  {
   "cell_type": "code",
   "execution_count": 49,
   "metadata": {},
   "outputs": [
    {
     "data": {
      "text/plain": [
       "<matplotlib.axes._subplots.AxesSubplot at 0x7f07aafe4f60>"
      ]
     },
     "execution_count": 49,
     "metadata": {},
     "output_type": "execute_result"
    },
    {
     "data": {
      "image/png": "[encoded data removed]",
      "text/plain": [
       "<Figure size 432x288 with 1 Axes>"
      ]
     },
     "metadata": {},
     "output_type": "display_data"
    }
   ],
   "source": [
    "por_local.nasceu.count().plot.bar()"
   ]
  },
  {
   "cell_type": "markdown",
   "metadata": {},
   "source": [
    "Será que a idade das mães é influenciada pelo local de nascimento?"
   ]
  },
  {
   "cell_type": "code",
   "execution_count": 32,
   "metadata": {},
   "outputs": [
    {
     "data": {
      "text/html": [
       "<div>\n",
       "<style scoped>\n",
       "    .dataframe tbody tr th:only-of-type {\n",
       "        vertical-align: middle;\n",
       "    }\n",
       "\n",
       "    .dataframe tbody tr th {\n",
       "        vertical-align: top;\n",
       "    }\n",
       "\n",
       "    .dataframe thead th {\n",
       "        text-align: right;\n",
       "    }\n",
       "</style>\n",
       "<table border=\"1\" class=\"dataframe\">\n",
       "  <thead>\n",
       "    <tr style=\"text-align: right;\">\n",
       "      <th></th>\n",
       "      <th>count</th>\n",
       "      <th>mean</th>\n",
       "      <th>std</th>\n",
       "      <th>min</th>\n",
       "      <th>25%</th>\n",
       "      <th>50%</th>\n",
       "      <th>75%</th>\n",
       "      <th>max</th>\n",
       "    </tr>\n",
       "    <tr>\n",
       "      <th>LOCAL_NASCIMENTO</th>\n",
       "      <th></th>\n",
       "      <th></th>\n",
       "      <th></th>\n",
       "      <th></th>\n",
       "      <th></th>\n",
       "      <th></th>\n",
       "      <th></th>\n",
       "      <th></th>\n",
       "    </tr>\n",
       "  </thead>\n",
       "  <tbody>\n",
       "    <tr>\n",
       "      <th>domicilio</th>\n",
       "      <td>728.0</td>\n",
       "      <td>27.251374</td>\n",
       "      <td>7.290494</td>\n",
       "      <td>12.0</td>\n",
       "      <td>22.00</td>\n",
       "      <td>27.0</td>\n",
       "      <td>32.0</td>\n",
       "      <td>99.0</td>\n",
       "    </tr>\n",
       "    <tr>\n",
       "      <th>hospital</th>\n",
       "      <td>235093.0</td>\n",
       "      <td>26.617547</td>\n",
       "      <td>6.784363</td>\n",
       "      <td>10.0</td>\n",
       "      <td>21.00</td>\n",
       "      <td>26.0</td>\n",
       "      <td>32.0</td>\n",
       "      <td>58.0</td>\n",
       "    </tr>\n",
       "    <tr>\n",
       "      <th>ignorado</th>\n",
       "      <td>6.0</td>\n",
       "      <td>20.666667</td>\n",
       "      <td>5.163978</td>\n",
       "      <td>16.0</td>\n",
       "      <td>17.25</td>\n",
       "      <td>18.5</td>\n",
       "      <td>23.5</td>\n",
       "      <td>29.0</td>\n",
       "    </tr>\n",
       "    <tr>\n",
       "      <th>outro estabelecimento de saúde</th>\n",
       "      <td>848.0</td>\n",
       "      <td>27.087264</td>\n",
       "      <td>6.125174</td>\n",
       "      <td>14.0</td>\n",
       "      <td>22.00</td>\n",
       "      <td>27.0</td>\n",
       "      <td>31.0</td>\n",
       "      <td>46.0</td>\n",
       "    </tr>\n",
       "    <tr>\n",
       "      <th>outros</th>\n",
       "      <td>285.0</td>\n",
       "      <td>26.768421</td>\n",
       "      <td>8.640454</td>\n",
       "      <td>13.0</td>\n",
       "      <td>22.00</td>\n",
       "      <td>26.0</td>\n",
       "      <td>30.0</td>\n",
       "      <td>99.0</td>\n",
       "    </tr>\n",
       "  </tbody>\n",
       "</table>\n",
       "</div>"
      ],
      "text/plain": [
       "                                   count       mean       std   min    25%  \\\n",
       "LOCAL_NASCIMENTO                                                             \n",
       "domicilio                          728.0  27.251374  7.290494  12.0  22.00   \n",
       "hospital                        235093.0  26.617547  6.784363  10.0  21.00   \n",
       "ignorado                             6.0  20.666667  5.163978  16.0  17.25   \n",
       "outro estabelecimento de saúde     848.0  27.087264  6.125174  14.0  22.00   \n",
       "outros                             285.0  26.768421  8.640454  13.0  22.00   \n",
       "\n",
       "                                 50%   75%   max  \n",
       "LOCAL_NASCIMENTO                                  \n",
       "domicilio                       27.0  32.0  99.0  \n",
       "hospital                        26.0  32.0  58.0  \n",
       "ignorado                        18.5  23.5  29.0  \n",
       "outro estabelecimento de saúde  27.0  31.0  46.0  \n",
       "outros                          26.0  30.0  99.0  "
      ]
     },
     "execution_count": 32,
     "metadata": {},
     "output_type": "execute_result"
    }
   ],
   "source": [
    "por_local.IDADEMAE.describe()"
   ]
  },
  {
   "cell_type": "code",
   "execution_count": 33,
   "metadata": {},
   "outputs": [
    {
     "data": {
      "text/plain": [
       "domicilio                              AxesSubplot(0.1,0.679412;0.363636x0.220588)\n",
       "hospital                          AxesSubplot(0.536364,0.679412;0.363636x0.220588)\n",
       "ignorado                               AxesSubplot(0.1,0.414706;0.363636x0.220588)\n",
       "outro estabelecimento de saúde    AxesSubplot(0.536364,0.414706;0.363636x0.220588)\n",
       "outros                                     AxesSubplot(0.1,0.15;0.363636x0.220588)\n",
       "dtype: object"
      ]
     },
     "execution_count": 33,
     "metadata": {},
     "output_type": "execute_result"
    },
    {
     "data": {
      "image/png": "[encoded data removed]",
      "text/plain": [
       "<Figure size 720x720 with 6 Axes>"
      ]
     },
     "metadata": {},
     "output_type": "display_data"
    }
   ],
   "source": [
    "por_local.boxplot(column=\"IDADEMAE\", figsize=(10, 10))"
   ]
  },
  {
   "cell_type": "markdown",
   "metadata": {},
   "source": [
    "Será que a falta de um pai influencia no local de nascimento?"
   ]
  },
  {
   "cell_type": "code",
   "execution_count": 34,
   "metadata": {},
   "outputs": [],
   "source": [
    "por_local_sem_pai = df[df[\"IDADEPAI\"] <= 0].groupby(\"LOCAL_NASCIMENTO\")"
   ]
  },
  {
   "cell_type": "code",
   "execution_count": 35,
   "metadata": {},
   "outputs": [
    {
     "data": {
      "text/html": [
       "<div>\n",
       "<style scoped>\n",
       "    .dataframe tbody tr th:only-of-type {\n",
       "        vertical-align: middle;\n",
       "    }\n",
       "\n",
       "    .dataframe tbody tr th {\n",
       "        vertical-align: top;\n",
       "    }\n",
       "\n",
       "    .dataframe thead th {\n",
       "        text-align: right;\n",
       "    }\n",
       "</style>\n",
       "<table border=\"1\" class=\"dataframe\">\n",
       "  <thead>\n",
       "    <tr style=\"text-align: right;\">\n",
       "      <th></th>\n",
       "      <th>count</th>\n",
       "      <th>mean</th>\n",
       "      <th>std</th>\n",
       "      <th>min</th>\n",
       "      <th>25%</th>\n",
       "      <th>50%</th>\n",
       "      <th>75%</th>\n",
       "      <th>max</th>\n",
       "    </tr>\n",
       "    <tr>\n",
       "      <th>LOCAL_NASCIMENTO</th>\n",
       "      <th></th>\n",
       "      <th></th>\n",
       "      <th></th>\n",
       "      <th></th>\n",
       "      <th></th>\n",
       "      <th></th>\n",
       "      <th></th>\n",
       "      <th></th>\n",
       "    </tr>\n",
       "  </thead>\n",
       "  <tbody>\n",
       "    <tr>\n",
       "      <th>domicilio</th>\n",
       "      <td>454.0</td>\n",
       "      <td>26.308370</td>\n",
       "      <td>7.825191</td>\n",
       "      <td>12.0</td>\n",
       "      <td>20.0</td>\n",
       "      <td>25.0</td>\n",
       "      <td>31.0</td>\n",
       "      <td>99.0</td>\n",
       "    </tr>\n",
       "    <tr>\n",
       "      <th>hospital</th>\n",
       "      <td>107122.0</td>\n",
       "      <td>24.941133</td>\n",
       "      <td>6.626587</td>\n",
       "      <td>10.0</td>\n",
       "      <td>20.0</td>\n",
       "      <td>24.0</td>\n",
       "      <td>29.0</td>\n",
       "      <td>58.0</td>\n",
       "    </tr>\n",
       "    <tr>\n",
       "      <th>ignorado</th>\n",
       "      <td>3.0</td>\n",
       "      <td>21.000000</td>\n",
       "      <td>7.000000</td>\n",
       "      <td>16.0</td>\n",
       "      <td>17.0</td>\n",
       "      <td>18.0</td>\n",
       "      <td>23.5</td>\n",
       "      <td>29.0</td>\n",
       "    </tr>\n",
       "    <tr>\n",
       "      <th>outro estabelecimento de saúde</th>\n",
       "      <td>259.0</td>\n",
       "      <td>26.976834</td>\n",
       "      <td>6.683272</td>\n",
       "      <td>14.0</td>\n",
       "      <td>22.0</td>\n",
       "      <td>26.0</td>\n",
       "      <td>32.0</td>\n",
       "      <td>46.0</td>\n",
       "    </tr>\n",
       "    <tr>\n",
       "      <th>outros</th>\n",
       "      <td>217.0</td>\n",
       "      <td>26.608295</td>\n",
       "      <td>9.466731</td>\n",
       "      <td>13.0</td>\n",
       "      <td>21.0</td>\n",
       "      <td>25.0</td>\n",
       "      <td>30.0</td>\n",
       "      <td>99.0</td>\n",
       "    </tr>\n",
       "  </tbody>\n",
       "</table>\n",
       "</div>"
      ],
      "text/plain": [
       "                                   count       mean       std   min   25%  \\\n",
       "LOCAL_NASCIMENTO                                                            \n",
       "domicilio                          454.0  26.308370  7.825191  12.0  20.0   \n",
       "hospital                        107122.0  24.941133  6.626587  10.0  20.0   \n",
       "ignorado                             3.0  21.000000  7.000000  16.0  17.0   \n",
       "outro estabelecimento de saúde     259.0  26.976834  6.683272  14.0  22.0   \n",
       "outros                             217.0  26.608295  9.466731  13.0  21.0   \n",
       "\n",
       "                                 50%   75%   max  \n",
       "LOCAL_NASCIMENTO                                  \n",
       "domicilio                       25.0  31.0  99.0  \n",
       "hospital                        24.0  29.0  58.0  \n",
       "ignorado                        18.0  23.5  29.0  \n",
       "outro estabelecimento de saúde  26.0  32.0  46.0  \n",
       "outros                          25.0  30.0  99.0  "
      ]
     },
     "execution_count": 35,
     "metadata": {},
     "output_type": "execute_result"
    }
   ],
   "source": [
    "por_local_sem_pai.IDADEMAE.describe()"
   ]
  },
  {
   "cell_type": "code",
   "execution_count": 36,
   "metadata": {},
   "outputs": [
    {
     "data": {
      "text/plain": [
       "domicilio                              AxesSubplot(0.1,0.679412;0.363636x0.220588)\n",
       "hospital                          AxesSubplot(0.536364,0.679412;0.363636x0.220588)\n",
       "ignorado                               AxesSubplot(0.1,0.414706;0.363636x0.220588)\n",
       "outro estabelecimento de saúde    AxesSubplot(0.536364,0.414706;0.363636x0.220588)\n",
       "outros                                     AxesSubplot(0.1,0.15;0.363636x0.220588)\n",
       "dtype: object"
      ]
     },
     "execution_count": 36,
     "metadata": {},
     "output_type": "execute_result"
    },
    {
     "data": {
      "image/png": "[encoded data removed]",
      "text/plain": [
       "<Figure size 720x720 with 6 Axes>"
      ]
     },
     "metadata": {},
     "output_type": "display_data"
    }
   ],
   "source": [
    "por_local_sem_pai.boxplot(column=\"IDADEMAE\", figsize=(10, 10))"
   ]
  },
  {
   "cell_type": "markdown",
   "metadata": {},
   "source": [
    "Vamos olhar o estado civil e ver como ele influencia os nascimentos:"
   ]
  },
  {
   "cell_type": "code",
   "execution_count": 46,
   "metadata": {},
   "outputs": [],
   "source": [
    "por_estado_civil = df.groupby(\"EST_CIVIL_MAE\")"
   ]
  },
  {
   "cell_type": "code",
   "execution_count": 48,
   "metadata": {},
   "outputs": [
    {
     "data": {
      "text/plain": [
       "<matplotlib.axes._subplots.AxesSubplot at 0x7f07e0dc8438>"
      ]
     },
     "execution_count": 48,
     "metadata": {},
     "output_type": "execute_result"
    },
    {
     "data": {
      "image/png": "[encoded data removed]",
      "text/plain": [
       "<Figure size 432x288 with 1 Axes>"
      ]
     },
     "metadata": {},
     "output_type": "display_data"
    }
   ],
   "source": [
    "por_estado_civil.nasceu.count().plot.bar()"
   ]
  },
  {
   "cell_type": "code",
   "execution_count": 50,
   "metadata": {},
   "outputs": [
    {
     "data": {
      "text/plain": [
       "casada             AxesSubplot(0.1,0.679412;0.363636x0.220588)\n",
       "divorciada    AxesSubplot(0.536364,0.679412;0.363636x0.220588)\n",
       "ignorado           AxesSubplot(0.1,0.414706;0.363636x0.220588)\n",
       "solteira      AxesSubplot(0.536364,0.414706;0.363636x0.220588)\n",
       "viuva                  AxesSubplot(0.1,0.15;0.363636x0.220588)\n",
       "dtype: object"
      ]
     },
     "execution_count": 50,
     "metadata": {},
     "output_type": "execute_result"
    },
    {
     "data": {
      "image/png": "[encoded data removed]",
      "text/plain": [
       "<Figure size 720x720 with 6 Axes>"
      ]
     },
     "metadata": {},
     "output_type": "display_data"
    }
   ],
   "source": [
    "por_estado_civil.boxplot(column=\"IDADEMAE\", figsize=(10, 10))"
   ]
  },
  {
   "cell_type": "markdown",
   "metadata": {},
   "source": [
    "### Façam uma analise pela escolaridade das mães."
   ]
  },
  {
   "cell_type": "code",
   "execution_count": 52,
   "metadata": {},
   "outputs": [],
   "source": [
    "por_escolaridade = df.groupby(\"ESCOLARIDADE_MAE\")"
   ]
  },
  {
   "cell_type": "code",
   "execution_count": 53,
   "metadata": {},
   "outputs": [
    {
     "data": {
      "text/plain": [
       "ESCOLARIDADE_MAE\n",
       "1 a 3 anos       4717\n",
       "12 ou mais      45088\n",
       "4 a 7 anos      46032\n",
       "8 a 11 anos    138139\n",
       "ignorado         2644\n",
       "nenhuma           340\n",
       "Name: nasceu, dtype: int64"
      ]
     },
     "execution_count": 53,
     "metadata": {},
     "output_type": "execute_result"
    }
   ],
   "source": [
    "por_escolaridade.nasceu.count()"
   ]
  },
  {
   "cell_type": "code",
   "execution_count": null,
   "metadata": {},
   "outputs": [],
   "source": []
  }
 ],
 "metadata": {
  "kernelspec": {
   "display_name": "Python 3",
   "language": "python",
   "name": "python3"
  },
  "language_info": {
   "codemirror_mode": {
    "name": "ipython",
    "version": 3
   },
   "file_extension": ".py",
   "mimetype": "text/x-python",
   "name": "python",
   "nbconvert_exporter": "python",
   "pygments_lexer": "ipython3",
   "version": "3.6.5"
  }
 },
 "nbformat": 4,
 "nbformat_minor": 2
}
